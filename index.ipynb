{
  "cells": [
    {
      "cell_type": "markdown",
      "metadata": {
        "id": "rX8mhOLljYeM"
      },
      "source": [
        "##### Copyright 2019 The TensorFlow Authors."
      ]
    },
    {
      "cell_type": "code",
      "execution_count": 2,
      "metadata": {
        "id": "BZSlp3DAjdYf",
        "outputId": "78d43a58-8b5f-4c8f-88a1-d4c61d1f4544",
        "colab": {
          "base_uri": "https://localhost:8080/"
        }
      },
      "outputs": [
        {
          "output_type": "stream",
          "name": "stdout",
          "text": [
            "==============================================================================\n",
            "\n",
            "SUBTASK 1\n",
            "Reading the dataset...\n",
            "Printing after success reading file\n",
            "             first name Group  Subject1. Test 1  Subject1. Test2  \\\n",
            "Last name                                                          \n",
            "БЕЗЗЕМЕЛЬНИЙ  Костянтин     A                40               60   \n",
            "БІРЮКОВ          Дмитро     A                24               52   \n",
            "БОНДАРЕНКО    Єлизавета     A                40               60   \n",
            "БРЕСЛАВЕЦЬ      Михайло     A                22               50   \n",
            "ГАЛЬПЕРІН        Максим     A                32               54   \n",
            "...                 ...   ...               ...              ...   \n",
            "ТЮПА              Павло     C                 8               52   \n",
            "ТЮРІН            Богдан     C                16               46   \n",
            "УШКАЛОВ          Нікіта     C                16               46   \n",
            "ШЕВЧЕНКО      Олександр     C                15               60   \n",
            "ШЕХОВЦОВ         Дмитро     C                50               50   \n",
            "\n",
            "              Subject2. Test 1  Subject2. Test 2  \n",
            "Last name                                         \n",
            "БЕЗЗЕМЕЛЬНИЙ                38                62  \n",
            "БІРЮКОВ                     22                54  \n",
            "БОНДАРЕНКО                  38                62  \n",
            "БРЕСЛАВЕЦЬ                  20                52  \n",
            "ГАЛЬПЕРІН                   30                56  \n",
            "...                        ...               ...  \n",
            "ТЮПА                         6                54  \n",
            "ТЮРІН                       14                48  \n",
            "УШКАЛОВ                     14                48  \n",
            "ШЕВЧЕНКО                    13                62  \n",
            "ШЕХОВЦОВ                    48                52  \n",
            "\n",
            "[75 rows x 6 columns]\n",
            "==============================================================================\n",
            "\n",
            "SUBTASK 2\n",
            "Printing after success calculating total score of the tests!\n",
            "             first name Group  Subject1. Test 1  Subject1. Test2  \\\n",
            "Last name                                                          \n",
            "БЕЗЗЕМЕЛЬНИЙ  Костянтин     A                40               60   \n",
            "БІРЮКОВ          Дмитро     A                24               52   \n",
            "БОНДАРЕНКО    Єлизавета     A                40               60   \n",
            "БРЕСЛАВЕЦЬ      Михайло     A                22               50   \n",
            "ГАЛЬПЕРІН        Максим     A                32               54   \n",
            "...                 ...   ...               ...              ...   \n",
            "ТЮПА              Павло     C                 8               52   \n",
            "ТЮРІН            Богдан     C                16               46   \n",
            "УШКАЛОВ          Нікіта     C                16               46   \n",
            "ШЕВЧЕНКО      Олександр     C                15               60   \n",
            "ШЕХОВЦОВ         Дмитро     C                50               50   \n",
            "\n",
            "              Subject2. Test 1  Subject2. Test 2  Total score for subject 1  \\\n",
            "Last name                                                                     \n",
            "БЕЗЗЕМЕЛЬНИЙ                38                62                        100   \n",
            "БІРЮКОВ                     22                54                         76   \n",
            "БОНДАРЕНКО                  38                62                        100   \n",
            "БРЕСЛАВЕЦЬ                  20                52                         72   \n",
            "ГАЛЬПЕРІН                   30                56                         86   \n",
            "...                        ...               ...                        ...   \n",
            "ТЮПА                         6                54                         60   \n",
            "ТЮРІН                       14                48                         62   \n",
            "УШКАЛОВ                     14                48                         62   \n",
            "ШЕВЧЕНКО                    13                62                         75   \n",
            "ШЕХОВЦОВ                    48                52                        100   \n",
            "\n",
            "              Total score for subject 2  \n",
            "Last name                                \n",
            "БЕЗЗЕМЕЛЬНИЙ                        100  \n",
            "БІРЮКОВ                              76  \n",
            "БОНДАРЕНКО                          100  \n",
            "БРЕСЛАВЕЦЬ                           72  \n",
            "ГАЛЬПЕРІН                            86  \n",
            "...                                 ...  \n",
            "ТЮПА                                 60  \n",
            "ТЮРІН                                62  \n",
            "УШКАЛОВ                              62  \n",
            "ШЕВЧЕНКО                             75  \n",
            "ШЕХОВЦОВ                            100  \n",
            "\n",
            "[75 rows x 8 columns]\n",
            "==============================================================================\n",
            "\n",
            "SUBTASK 3\n",
            "Printing after success calculating ECTS and National grades!\n",
            "             first name Group  Subject1. Test 1  Subject1. Test2  \\\n",
            "Last name                                                          \n",
            "БЕЗЗЕМЕЛЬНИЙ  Костянтин     A                40               60   \n",
            "БІРЮКОВ          Дмитро     A                24               52   \n",
            "БОНДАРЕНКО    Єлизавета     A                40               60   \n",
            "БРЕСЛАВЕЦЬ      Михайло     A                22               50   \n",
            "ГАЛЬПЕРІН        Максим     A                32               54   \n",
            "...                 ...   ...               ...              ...   \n",
            "ТЮПА              Павло     C                 8               52   \n",
            "ТЮРІН            Богдан     C                16               46   \n",
            "УШКАЛОВ          Нікіта     C                16               46   \n",
            "ШЕВЧЕНКО      Олександр     C                15               60   \n",
            "ШЕХОВЦОВ         Дмитро     C                50               50   \n",
            "\n",
            "              Subject2. Test 1  Subject2. Test 2  Total score for subject 1  \\\n",
            "Last name                                                                     \n",
            "БЕЗЗЕМЕЛЬНИЙ                38                62                        100   \n",
            "БІРЮКОВ                     22                54                         76   \n",
            "БОНДАРЕНКО                  38                62                        100   \n",
            "БРЕСЛАВЕЦЬ                  20                52                         72   \n",
            "ГАЛЬПЕРІН                   30                56                         86   \n",
            "...                        ...               ...                        ...   \n",
            "ТЮПА                         6                54                         60   \n",
            "ТЮРІН                       14                48                         62   \n",
            "УШКАЛОВ                     14                48                         62   \n",
            "ШЕВЧЕНКО                    13                62                         75   \n",
            "ШЕХОВЦОВ                    48                52                        100   \n",
            "\n",
            "              Total score for subject 2 ECTS grading scale subject 1  \\\n",
            "Last name                                                              \n",
            "БЕЗЗЕМЕЛЬНИЙ                        100                            A   \n",
            "БІРЮКОВ                              76                            C   \n",
            "БОНДАРЕНКО                          100                            A   \n",
            "БРЕСЛАВЕЦЬ                           72                            D   \n",
            "ГАЛЬПЕРІН                            86                            B   \n",
            "...                                 ...                          ...   \n",
            "ТЮПА                                 60                            E   \n",
            "ТЮРІН                                62                            E   \n",
            "УШКАЛОВ                              62                            E   \n",
            "ШЕВЧЕНКО                             75                            C   \n",
            "ШЕХОВЦОВ                            100                            A   \n",
            "\n",
            "             The national grading scale subject 1  \\\n",
            "Last name                                           \n",
            "БЕЗЗЕМЕЛЬНИЙ                            excellent   \n",
            "БІРЮКОВ                                      good   \n",
            "БОНДАРЕНКО                              excellent   \n",
            "БРЕСЛАВЕЦЬ                           satisfactory   \n",
            "ГАЛЬПЕРІН                                    good   \n",
            "...                                           ...   \n",
            "ТЮПА                                 satisfactory   \n",
            "ТЮРІН                                satisfactory   \n",
            "УШКАЛОВ                              satisfactory   \n",
            "ШЕВЧЕНКО                                     good   \n",
            "ШЕХОВЦОВ                                excellent   \n",
            "\n",
            "             ECTS grading scale subject 2 The national grading scale subject 2  \n",
            "Last name                                                                       \n",
            "БЕЗЗЕМЕЛЬНИЙ                            A                            excellent  \n",
            "БІРЮКОВ                                 C                                 good  \n",
            "БОНДАРЕНКО                              A                            excellent  \n",
            "БРЕСЛАВЕЦЬ                              D                         satisfactory  \n",
            "ГАЛЬПЕРІН                               B                                 good  \n",
            "...                                   ...                                  ...  \n",
            "ТЮПА                                    E                         satisfactory  \n",
            "ТЮРІН                                   E                         satisfactory  \n",
            "УШКАЛОВ                                 E                         satisfactory  \n",
            "ШЕВЧЕНКО                                C                                 good  \n",
            "ШЕХОВЦОВ                                A                            excellent  \n",
            "\n",
            "[75 rows x 12 columns]\n",
            "Printing df.info() for checking data types!\n",
            "<class 'pandas.core.frame.DataFrame'>\n",
            "Index: 75 entries, БЕЗЗЕМЕЛЬНИЙ to ШЕХОВЦОВ\n",
            "Data columns (total 12 columns):\n",
            " #   Column                                Non-Null Count  Dtype \n",
            "---  ------                                --------------  ----- \n",
            " 0   first name                            75 non-null     object\n",
            " 1   Group                                 75 non-null     object\n",
            " 2   Subject1. Test 1                      75 non-null     int64 \n",
            " 3   Subject1. Test2                       75 non-null     int64 \n",
            " 4   Subject2. Test 1                      75 non-null     int64 \n",
            " 5   Subject2. Test 2                      75 non-null     int64 \n",
            " 6   Total score for subject 1             75 non-null     int64 \n",
            " 7   Total score for subject 2             75 non-null     int64 \n",
            " 8   ECTS grading scale subject 1          75 non-null     object\n",
            " 9   The national grading scale subject 1  75 non-null     object\n",
            " 10  ECTS grading scale subject 2          75 non-null     object\n",
            " 11  The national grading scale subject 2  75 non-null     object\n",
            "dtypes: int64(6), object(6)\n",
            "memory usage: 7.6+ KB\n",
            "==============================================================================\n",
            "\n",
            "SUBTASK 4\n",
            "Printing new dataset with renames subjects\n",
            "       Last name first name Group  \\\n",
            "0   БЕЗЗЕМЕЛЬНИЙ  Костянтин     A   \n",
            "1        БІРЮКОВ     Дмитро     A   \n",
            "2     БОНДАРЕНКО  Єлизавета     A   \n",
            "3     БРЕСЛАВЕЦЬ    Михайло     A   \n",
            "4      ГАЛЬПЕРІН     Максим     A   \n",
            "..           ...        ...   ...   \n",
            "70          ТЮПА      Павло     C   \n",
            "71         ТЮРІН     Богдан     C   \n",
            "72       УШКАЛОВ     Нікіта     C   \n",
            "73      ШЕВЧЕНКО  Олександр     C   \n",
            "74      ШЕХОВЦОВ     Дмитро     C   \n",
            "\n",
            "   The national grading scale Artificial Intelligence  \\\n",
            "0                                           excellent   \n",
            "1                                                good   \n",
            "2                                           excellent   \n",
            "3                                        satisfactory   \n",
            "4                                                good   \n",
            "..                                                ...   \n",
            "70                                       satisfactory   \n",
            "71                                       satisfactory   \n",
            "72                                       satisfactory   \n",
            "73                                               good   \n",
            "74                                          excellent   \n",
            "\n",
            "   The national grading scale Object-Oriented Programming  \n",
            "0                                           excellent      \n",
            "1                                                good      \n",
            "2                                           excellent      \n",
            "3                                        satisfactory      \n",
            "4                                                good      \n",
            "..                                                ...      \n",
            "70                                       satisfactory      \n",
            "71                                       satisfactory      \n",
            "72                                       satisfactory      \n",
            "73                                               good      \n",
            "74                                          excellent      \n",
            "\n",
            "[75 rows x 5 columns]\n",
            "==============================================================================\n",
            "\n",
            "SUBTASK 5\n",
            "Printing new dataset with replaced marks\n",
            "       Last name first name Group  \\\n",
            "0   БЕЗЗЕМЕЛЬНИЙ  Костянтин     A   \n",
            "1        БІРЮКОВ     Дмитро     A   \n",
            "2     БОНДАРЕНКО  Єлизавета     A   \n",
            "3     БРЕСЛАВЕЦЬ    Михайло     A   \n",
            "4      ГАЛЬПЕРІН     Максим     A   \n",
            "..           ...        ...   ...   \n",
            "70          ТЮПА      Павло     C   \n",
            "71         ТЮРІН     Богдан     C   \n",
            "72       УШКАЛОВ     Нікіта     C   \n",
            "73      ШЕВЧЕНКО  Олександр     C   \n",
            "74      ШЕХОВЦОВ     Дмитро     C   \n",
            "\n",
            "    The national grading scale Artificial Intelligence  \\\n",
            "0                                                   5    \n",
            "1                                                   4    \n",
            "2                                                   5    \n",
            "3                                                   3    \n",
            "4                                                   4    \n",
            "..                                                ...    \n",
            "70                                                  3    \n",
            "71                                                  3    \n",
            "72                                                  3    \n",
            "73                                                  4    \n",
            "74                                                  5    \n",
            "\n",
            "    The national grading scale Object-Oriented Programming  \n",
            "0                                                   5       \n",
            "1                                                   4       \n",
            "2                                                   5       \n",
            "3                                                   3       \n",
            "4                                                   4       \n",
            "..                                                ...       \n",
            "70                                                  3       \n",
            "71                                                  3       \n",
            "72                                                  3       \n",
            "73                                                  4       \n",
            "74                                                  5       \n",
            "\n",
            "[75 rows x 5 columns]\n",
            "==============================================================================\n",
            "\n",
            "SUBTASK 6\n",
            "Unique last names: ['БЕЗЗЕМЕЛЬНИЙ', 'БІРЮКОВ', 'БОНДАРЕНКО', 'БРЕСЛАВЕЦЬ', 'ГАЛЬПЕРІН', 'ГРОШОВИЙ', 'ДЕХТЯРЬОВ', 'ДОВГОПОЛОВ', 'ЖЕЛТУХІНА', 'КУХТОВ', 'ЛАРІНА', 'ЛАСКОВЕЦЬ', 'ЛИМАР', 'ЛИТВИНЕНКО', 'МАКАРОВ', 'МАМЧУР', 'МУСІЙ', 'НИКОНЕНКО', 'ПОЛТОРАЦЬКИЙ', 'РЕЗАНЦЕВ', 'СКОПЦОВА', 'ТАБАКІН', 'ТАРАНОВ', 'ТЕЛЯНОВА', 'ЦИГАНКОВ', 'ЯКОВЛЕВ ', 'АВДЄЄВА', 'АЛЕКСЕНКО', 'БІЛИЙ', 'БОНДАР', 'БОРИСОВ', 'БУЛАВКА', 'ДЕМКІВ', 'ЗОЗУЛЯ', 'ІВАНОВ', 'ІВАНЧИХІН', 'КРИЖАНОВСЬКИЙ', 'ЛІСОГОРСЬКИЙ', 'МАТВЄЄВ', 'МОСКАЛЬ', 'НИКИФОРЕНКО', 'ПАНЧЕНКО', 'ПОЛТАВЕЦЬ', 'ПОТУШИНСЬКИЙ', 'СИДОРОВ', 'СОБОЛЕНКО', 'СТЕПА', 'ТКАЧЕНКО', 'ХЕН', 'ЧЕВАРДІН', 'ЦЫГУЛЕВ', 'ГАРІН', 'ДОБРОМІЛЬСЬКИЙ', 'ЄГОРОВ', 'ІЛЬЇН', 'КАЦ', 'КОМАРЕВЦЕВ', 'ЛОМАКА', 'МАЛИХІН', 'МУСТАФАЄВ', 'НАРАНОВИЧ', 'ПОГРЕБНИЙ', 'ПРИДВОРОВ', 'ПУСТОВИЙ', 'ПУТІЙ', 'СЕРІКОВ', 'СОЛЯНИК', 'СУХОЙ', 'ТАХТАУЛОВ', 'ТЮПА', 'ТЮРІН', 'УШКАЛОВ', 'ШЕВЧЕНКО', 'ШЕХОВЦОВ']\n",
            "Unique first names: ['Костянтин', 'Дмитро', 'Єлизавета', 'Михайло', 'Максим', 'Микола', 'Сергій', 'Даніїл', 'Альона', 'Георгій', 'Марія', 'Андрій', 'Денис', 'Ярослав', 'Антон', 'Володимир', 'Ілля', 'Віталій', 'Олександр', 'Олена', 'Єгор', ' Богдан', 'Софія', 'Олег', 'Артем', 'Іван', 'Семен', 'Вячеслав', 'Всеволод', 'Олексій', 'Кирило', 'Валерія', 'Станіслав', 'Нікіта', 'Катерина', 'Роман', 'Данило', 'Ростислав', 'Назім', 'Руслан', 'Ян', 'Павло', 'Богдан']\n",
            "Unique groups: ['A', 'B', 'C']\n",
            "Unique AI national grades: [5, 4, 3, 2, 1]\n",
            "Unique OOP national grades: [5, 4, 3, 2, 1]\n",
            "==============================================================================\n",
            "\n",
            "SUBTASK 7\n",
            "Last name counts:\n",
            "        Last name  Count\n",
            "0         ІВАНОВ      2\n",
            "1   БЕЗЗЕМЕЛЬНИЙ      1\n",
            "2     БОНДАРЕНКО      1\n",
            "3     БРЕСЛАВЕЦЬ      1\n",
            "4      ГАЛЬПЕРІН      1\n",
            "..           ...    ...\n",
            "69          ТЮПА      1\n",
            "70         ТЮРІН      1\n",
            "71       УШКАЛОВ      1\n",
            "72      ШЕВЧЕНКО      1\n",
            "73      ШЕХОВЦОВ      1\n",
            "\n",
            "[74 rows x 2 columns]\n",
            "\n",
            "First name counts:\n",
            "    First name  Count\n",
            "0      Дмитро      8\n",
            "1        Ілля      7\n",
            "2      Сергій      4\n",
            "3     Олексій      3\n",
            "4      Максим      3\n",
            "5   Єлизавета      2\n",
            "6   Костянтин      2\n",
            "7      Андрій      2\n",
            "8     Ярослав      2\n",
            "9     Михайло      2\n",
            "10      Антон      2\n",
            "11     Данило      2\n",
            "12     Нікіта      2\n",
            "13     Кирило      2\n",
            "14      Денис      2\n",
            "15       Єгор      2\n",
            "16  Олександр      2\n",
            "17     Микола      1\n",
            "18     Даніїл      1\n",
            "19      Марія      1\n",
            "20    Георгій      1\n",
            "21     Альона      1\n",
            "22      Софія      1\n",
            "23    Віталій      1\n",
            "24      Олена      1\n",
            "25     Богдан      1\n",
            "26  Володимир      1\n",
            "27      Семен      1\n",
            "28       Іван      1\n",
            "29      Артем      1\n",
            "30       Олег      1\n",
            "31   Вячеслав      1\n",
            "32    Валерія      1\n",
            "33  Станіслав      1\n",
            "34   Всеволод      1\n",
            "35   Катерина      1\n",
            "36      Роман      1\n",
            "37  Ростислав      1\n",
            "38      Назім      1\n",
            "39     Руслан      1\n",
            "40         Ян      1\n",
            "41      Павло      1\n",
            "42     Богдан      1\n",
            "\n",
            "Group counts:\n",
            "   Group  Count\n",
            "0     A     26\n",
            "1     B     25\n",
            "2     C     24\n",
            "\n",
            "AI grade counts:\n",
            "    Artificial Intelligence Grade  Count\n",
            "0                              4     31\n",
            "1                              3     20\n",
            "2                              1      9\n",
            "3                              5      8\n",
            "4                              2      7\n",
            "\n",
            "OOP grade counts:\n",
            "    Object-Oriented Programming Grade  Count\n",
            "0                                  4     31\n",
            "1                                  3     20\n",
            "2                                  1     11\n",
            "3                                  5      8\n",
            "4                                  2      5\n",
            "==============================================================================\n",
            "\n",
            "SUBTASK 8\n",
            "The number of students with only excellent and good marks in all groups: 39\n",
            "==============================================================================\n",
            "\n",
            "SUBTASK 9\n",
            "Printing unsatisfactory mark's count by groups\n",
            "  Group  Number of Unsatisfactory Students\n",
            "0     A                                  2\n",
            "1     B                                  8\n",
            "2     C                                  6\n",
            "==============================================================================\n",
            "\n",
            "SUBTASK 10\n",
            "AI grade counts:\n",
            "    The national grading scale Artificial Intelligence  Count\n",
            "0                                                  1       9\n",
            "1                                                  2       7\n",
            "2                                                  3      20\n",
            "3                                                  4      31\n",
            "4                                                  5       8\n",
            "\n",
            "OOP grade counts:\n",
            "    The national grading scale Object-Oriented Programming  Count\n",
            "0                                                  1          11\n",
            "1                                                  2           5\n",
            "2                                                  3          20\n",
            "3                                                  4          31\n",
            "4                                                  5           8\n",
            "==============================================================================\n",
            "\n",
            "SUBTASK 11\n",
            "Groups without any Unsatisfactory marks:\n",
            "   Group  Count\n",
            "0     A     24\n",
            "1     B     17\n",
            "2     C     18\n"
          ]
        }
      ],
      "source": [
        "import pandas as pd\n",
        "\n",
        "grade_to_mark = {\n",
        "    'excellent': 5,\n",
        "    'good': 4,\n",
        "    'satisfactory': 3,\n",
        "    'Unsatisfactory (exam retake)': 2,\n",
        "    'Unsatisfactory (repetition)': 1\n",
        "}\n",
        "\n",
        "def get_ects_grade(score):\n",
        "    if 90 <= score <= 100:\n",
        "        return 'A'\n",
        "    elif 82 <= score <= 89:\n",
        "        return 'B'\n",
        "    elif 74 <= score <= 81:\n",
        "        return 'C'\n",
        "    elif 64 <= score <= 73:\n",
        "        return 'D'\n",
        "    elif 60 <= score <= 63:\n",
        "        return 'E'\n",
        "    elif 35 <= score <= 59:\n",
        "        return 'FX'\n",
        "    else:\n",
        "        return 'F'\n",
        "\n",
        "def get_national_grade(score):\n",
        "    if 90 <= score <= 100:\n",
        "        return 'excellent'\n",
        "    elif 82 <= score <= 89:\n",
        "        return 'good'\n",
        "    elif 74 <= score <= 81:\n",
        "        return 'good'\n",
        "    elif 64 <= score <= 73:\n",
        "        return 'satisfactory'\n",
        "    elif 60 <= score <= 63:\n",
        "        return 'satisfactory'\n",
        "    elif 35 <= score <= 59:\n",
        "        return 'Unsatisfactory (exam retake)'\n",
        "    else:\n",
        "        return 'Unsatisfactory (repetition)'\n",
        "\n",
        "\n",
        "print(\"==============================================================================\\n\")\n",
        "print(\"SUBTASK 1\")\n",
        "print('Reading the dataset...')\n",
        "df = pd.read_excel('1_workshop_DataSet.xlsx', index_col=0, engine='openpyxl')\n",
        "\n",
        "print(\"Printing after success reading file\")\n",
        "print(df)\n",
        "\n",
        "print(\"==============================================================================\\n\")\n",
        "print(\"SUBTASK 2\")\n",
        "df['Total score for subject 1'] = df['Subject1. Test 1'] + df['Subject1. Test2']\n",
        "df['Total score for subject 2'] = df['Subject2. Test 1'] + df['Subject2. Test 2']\n",
        "\n",
        "print(\"Printing after success calculating total score of the tests!\")\n",
        "print(df)\n",
        "\n",
        "print(\"==============================================================================\\n\")\n",
        "print(\"SUBTASK 3\")\n",
        "df['ECTS grading scale subject 1'] = df['Total score for subject 1'].apply(get_ects_grade)\n",
        "df['The national grading scale subject 1'] = df['Total score for subject 1'].apply(get_national_grade)\n",
        "\n",
        "df['ECTS grading scale subject 2'] = df['Total score for subject 2'].apply(get_ects_grade)\n",
        "df['The national grading scale subject 2'] = df['Total score for subject 2'].apply(get_national_grade)\n",
        "\n",
        "print(\"Printing after success calculating ECTS and National grades!\")\n",
        "print(df)\n",
        "\n",
        "print(\"Printing df.info() for checking data types!\")\n",
        "df.info()\n",
        "\n",
        "print(\"==============================================================================\\n\")\n",
        "print(\"SUBTASK 4\")\n",
        "df = df.reset_index()\n",
        "\n",
        "new_df = df[['Last name','first name', 'Group',\n",
        "             'The national grading scale subject 1',\n",
        "             'The national grading scale subject 2']].copy()\n",
        "new_df = new_df.rename(columns={\n",
        "    'The national grading scale subject 1': 'The national grading scale Artificial Intelligence',\n",
        "    'The national grading scale subject 2': 'The national grading scale Object-Oriented Programming'\n",
        "})\n",
        "\n",
        "print(\"Printing new dataset with renames subjects\")\n",
        "print(new_df)\n",
        "\n",
        "new_df.to_excel('2_workshop_DataSet.xlsx', index=False)\n",
        "\n",
        "print(\"==============================================================================\\n\")\n",
        "print(\"SUBTASK 5\")\n",
        "new_df['The national grading scale Artificial Intelligence'] \\\n",
        "    = new_df['The national grading scale Artificial Intelligence'].map(grade_to_mark)\n",
        "new_df['The national grading scale Object-Oriented Programming']\\\n",
        "    = new_df['The national grading scale Object-Oriented Programming'].map(grade_to_mark)\n",
        "\n",
        "print(\"Printing new dataset with replaced marks\")\n",
        "print(new_df)\n",
        "\n",
        "new_df.to_excel('Lab_2_DataSet.xlsx', index=False)\n",
        "\n",
        "print(\"==============================================================================\\n\")\n",
        "print(\"SUBTASK 6\")\n",
        "last_names_unique = new_df['Last name'].unique().tolist()\n",
        "first_names_unique = new_df['first name'].unique().tolist()\n",
        "groups_unique = new_df['Group'].unique().tolist()\n",
        "ai_national_grades_unique = new_df['The national grading scale Artificial Intelligence'].unique().tolist()\n",
        "oop_national_grades_unique = new_df['The national grading scale Object-Oriented Programming'].unique().tolist()\n",
        "\n",
        "print(\"Unique last names:\", last_names_unique)\n",
        "print(\"Unique first names:\", first_names_unique)\n",
        "print(\"Unique groups:\", groups_unique)\n",
        "print(\"Unique AI national grades:\", ai_national_grades_unique)\n",
        "print(\"Unique OOP national grades:\", oop_national_grades_unique)\n",
        "\n",
        "print(\"==============================================================================\\n\")\n",
        "print(\"SUBTASK 7\")\n",
        "last_name_counts = new_df['Last name'].value_counts().reset_index()\n",
        "last_name_counts.columns = ['Last name', 'Count']\n",
        "\n",
        "first_name_counts = new_df['first name'].value_counts().reset_index()\n",
        "first_name_counts.columns = ['First name', 'Count']\n",
        "\n",
        "group_counts = new_df['Group'].value_counts().reset_index()\n",
        "group_counts.columns = ['Group', 'Count']\n",
        "\n",
        "ai_grade_counts = new_df['The national grading scale Artificial Intelligence'].value_counts().reset_index()\n",
        "ai_grade_counts.columns = ['Artificial Intelligence Grade', 'Count']\n",
        "\n",
        "oop_grade_counts = new_df['The national grading scale Object-Oriented Programming'].value_counts().reset_index()\n",
        "oop_grade_counts.columns = ['Object-Oriented Programming Grade', 'Count']\n",
        "\n",
        "print(\"Last name counts:\\n\", last_name_counts)\n",
        "print(\"\\nFirst name counts:\\n\", first_name_counts)\n",
        "print(\"\\nGroup counts:\\n\", group_counts)\n",
        "print(\"\\nAI grade counts:\\n\", ai_grade_counts)\n",
        "print(\"\\nOOP grade counts:\\n\", oop_grade_counts)\n",
        "\n",
        "print(\"==============================================================================\\n\")\n",
        "print(\"SUBTASK 8\")\n",
        "filtered_students = new_df[\n",
        "    (new_df['The national grading scale Artificial Intelligence'].isin([4, 5])) &\n",
        "    (new_df['The national grading scale Object-Oriented Programming'].isin([4, 5]))\n",
        "]\n",
        "\n",
        "total_students = filtered_students.shape[0]\n",
        "\n",
        "print(f'The number of students with only excellent and good marks in all groups: {total_students}')\n",
        "\n",
        "print(\"==============================================================================\\n\")\n",
        "print(\"SUBTASK 9\")\n",
        "unsatisfactory_students = new_df[\n",
        "    (new_df['The national grading scale Artificial Intelligence'].isin([1, 2])) &\n",
        "    (new_df['The national grading scale Object-Oriented Programming'].isin([1, 2]))\n",
        "]\n",
        "\n",
        "unsatisfactory_by_group = unsatisfactory_students.groupby('Group').size().reset_index(name='Number of Unsatisfactory Students')\n",
        "\n",
        "print(\"Printing unsatisfactory mark's count by groups\")\n",
        "print(unsatisfactory_by_group)\n",
        "\n",
        "print(\"==============================================================================\\n\")\n",
        "print(\"SUBTASK 10\")\n",
        "grade_counts_ai = new_df.groupby('The national grading scale Artificial Intelligence').size().reset_index(name='Count')\n",
        "grade_counts_oop = new_df.groupby('The national grading scale Object-Oriented Programming').size().reset_index(name='Count')\n",
        "\n",
        "print(\"AI grade counts:\\n\", grade_counts_ai)\n",
        "print(\"\\nOOP grade counts:\\n\", grade_counts_oop)\n",
        "\n",
        "print(\"==============================================================================\\n\")\n",
        "print(\"SUBTASK 11\")\n",
        "non_unsatisfactory_students = new_df[\n",
        "    ~new_df['The national grading scale Artificial Intelligence'].isin([1, 2]) &\n",
        "    ~new_df['The national grading scale Object-Oriented Programming'].isin([1, 2])\n",
        "]\n",
        "\n",
        "group_counts_non_unsatisfactory = non_unsatisfactory_students.groupby('Group').size().reset_index(name='Count')\n",
        "\n",
        "groups_without_unsatisfactory = group_counts_non_unsatisfactory[group_counts_non_unsatisfactory['Count'] > 0]\n",
        "\n",
        "print(\"Groups without any Unsatisfactory marks:\\n\", groups_without_unsatisfactory)"
      ]
    },
    {
      "cell_type": "markdown",
      "metadata": {
        "id": "3wF5wszaj97Y"
      },
      "source": [
        "# TensorFlow 2 quickstart for beginners"
      ]
    },
    {
      "cell_type": "markdown",
      "metadata": {
        "id": "DUNzJc4jTj6G"
      },
      "source": [
        "<table class=\"tfo-notebook-buttons\" align=\"left\">\n",
        "  <td>\n",
        "    <a target=\"_blank\" href=\"https://www.tensorflow.org/tutorials/quickstart/beginner\"><img src=\"https://www.tensorflow.org/images/tf_logo_32px.png\" />View on TensorFlow.org</a>\n",
        "  </td>\n",
        "  <td>\n",
        "    <a target=\"_blank\" href=\"https://colab.research.google.com/github/tensorflow/docs/blob/master/site/en/tutorials/quickstart/beginner.ipynb\"><img src=\"https://www.tensorflow.org/images/colab_logo_32px.png\" />Run in Google Colab</a>\n",
        "  </td>\n",
        "  <td>\n",
        "    <a target=\"_blank\" href=\"https://github.com/tensorflow/docs/blob/master/site/en/tutorials/quickstart/beginner.ipynb\"><img src=\"https://www.tensorflow.org/images/GitHub-Mark-32px.png\" />View source on GitHub</a>\n",
        "  </td>\n",
        "  <td>\n",
        "    <a href=\"https://storage.googleapis.com/tensorflow_docs/docs/site/en/tutorials/quickstart/beginner.ipynb\"><img src=\"https://www.tensorflow.org/images/download_logo_32px.png\" />Download notebook</a>\n",
        "  </td>\n",
        "</table>"
      ]
    },
    {
      "cell_type": "markdown",
      "metadata": {
        "id": "04QgGZc9bF5D"
      },
      "source": [
        "This short introduction uses [Keras](https://www.tensorflow.org/guide/keras/overview) to:\n",
        "\n",
        "1. Load a prebuilt dataset.\n",
        "1. Build a neural network machine learning model that classifies images.\n",
        "2. Train this neural network.\n",
        "3. Evaluate the accuracy of the model."
      ]
    },
    {
      "cell_type": "markdown",
      "metadata": {
        "id": "hiH7AC-NTniF"
      },
      "source": [
        "This tutorial is a [Google Colaboratory](https://colab.research.google.com/notebooks/welcome.ipynb) notebook. Python programs are run directly in the browser—a great way to learn and use TensorFlow. To follow this tutorial, run the notebook in Google Colab by clicking the button at the top of this page.\n",
        "\n",
        "1. In Colab, connect to a Python runtime: At the top-right of the menu bar, select *CONNECT*.\n",
        "2. To run all the code in the notebook, select **Runtime** > **Run all**. To run the code cells one at a time, hover over each cell and select the **Run cell** icon.\n",
        "\n",
        "![Run cell icon](https://github.com/tensorflow/docs/blob/master/site/en/tutorials/quickstart/images/beginner/run_cell_icon.png?raw=1)"
      ]
    },
    {
      "cell_type": "markdown",
      "metadata": {
        "id": "nnrWf3PCEzXL"
      },
      "source": [
        "## Set up TensorFlow\n",
        "\n",
        "Import TensorFlow into your program to get started:"
      ]
    },
    {
      "cell_type": "code",
      "execution_count": null,
      "metadata": {
        "id": "0trJmd6DjqBZ"
      },
      "outputs": [],
      "source": [
        "import tensorflow as tf\n",
        "print(\"TensorFlow version:\", tf.__version__)"
      ]
    },
    {
      "cell_type": "markdown",
      "metadata": {
        "id": "7NAbSZiaoJ4z"
      },
      "source": [
        "If you are following along in your own development environment, rather than [Colab](https://colab.research.google.com/github/tensorflow/docs/blob/master/site/en/tutorials/quickstart/beginner.ipynb), see the [install guide](https://www.tensorflow.org/install) for setting up TensorFlow for development.\n",
        "\n",
        "Note: Make sure you have upgraded to the latest `pip` to install the TensorFlow 2 package if you are using your own development environment. See the [install guide](https://www.tensorflow.org/install) for details.\n",
        "\n",
        "## Load a dataset\n",
        "\n",
        "Load and prepare the MNIST dataset. The pixel values of the images range from 0 through 255. Scale these values to a range of 0 to 1 by dividing the values by `255.0`. This also converts the sample data from integers to floating-point numbers:"
      ]
    },
    {
      "cell_type": "code",
      "execution_count": null,
      "metadata": {
        "id": "7FP5258xjs-v"
      },
      "outputs": [],
      "source": [
        "mnist = tf.keras.datasets.mnist\n",
        "\n",
        "(x_train, y_train), (x_test, y_test) = mnist.load_data()\n",
        "x_train, x_test = x_train / 255.0, x_test / 255.0"
      ]
    },
    {
      "cell_type": "markdown",
      "metadata": {
        "id": "BPZ68wASog_I"
      },
      "source": [
        "## Build a machine learning model\n",
        "\n",
        "Build a `tf.keras.Sequential` model:"
      ]
    },
    {
      "cell_type": "code",
      "execution_count": null,
      "metadata": {
        "id": "h3IKyzTCDNGo"
      },
      "outputs": [],
      "source": [
        "model = tf.keras.models.Sequential([\n",
        "  tf.keras.layers.Flatten(input_shape=(28, 28)),\n",
        "  tf.keras.layers.Dense(128, activation='relu'),\n",
        "  tf.keras.layers.Dropout(0.2),\n",
        "  tf.keras.layers.Dense(10)\n",
        "])"
      ]
    },
    {
      "cell_type": "markdown",
      "metadata": {
        "id": "l2hiez2eIUz8"
      },
      "source": [
        "[`Sequential`](https://www.tensorflow.org/guide/keras/sequential_model) is useful for stacking layers where each layer has one input [tensor](https://www.tensorflow.org/guide/tensor) and one output tensor. Layers are functions with a known mathematical structure that can be reused and have trainable variables. Most TensorFlow models are composed of layers. This model uses the [`Flatten`](https://www.tensorflow.org/api_docs/python/tf/keras/layers/Flatten), [`Dense`](https://www.tensorflow.org/api_docs/python/tf/keras/layers/Dense), and [`Dropout`](https://www.tensorflow.org/api_docs/python/tf/keras/layers/Dropout) layers.\n",
        "\n",
        "For each example, the model returns a vector of [logits](https://developers.google.com/machine-learning/glossary#logits) or [log-odds](https://developers.google.com/machine-learning/glossary#log-odds) scores, one for each class."
      ]
    },
    {
      "cell_type": "code",
      "execution_count": null,
      "metadata": {
        "id": "OeOrNdnkEEcR"
      },
      "outputs": [],
      "source": [
        "predictions = model(x_train[:1]).numpy()\n",
        "predictions"
      ]
    },
    {
      "cell_type": "markdown",
      "metadata": {
        "id": "tgjhDQGcIniO"
      },
      "source": [
        "The `tf.nn.softmax` function converts these logits to *probabilities* for each class:"
      ]
    },
    {
      "cell_type": "code",
      "execution_count": null,
      "metadata": {
        "id": "zWSRnQ0WI5eq"
      },
      "outputs": [],
      "source": [
        "tf.nn.softmax(predictions).numpy()"
      ]
    },
    {
      "cell_type": "markdown",
      "metadata": {
        "id": "he5u_okAYS4a"
      },
      "source": [
        "Note: It is possible to bake the `tf.nn.softmax` function into the activation function for the last layer of the network. While this can make the model output more directly interpretable, this approach is discouraged as it's impossible to provide an exact and numerically stable loss calculation for all models when using a softmax output."
      ]
    },
    {
      "cell_type": "markdown",
      "metadata": {
        "id": "hQyugpgRIyrA"
      },
      "source": [
        "Define a loss function for training using `losses.SparseCategoricalCrossentropy`:"
      ]
    },
    {
      "cell_type": "code",
      "execution_count": null,
      "metadata": {
        "id": "RSkzdv8MD0tT"
      },
      "outputs": [],
      "source": [
        "loss_fn = tf.keras.losses.SparseCategoricalCrossentropy(from_logits=True)"
      ]
    },
    {
      "cell_type": "markdown",
      "metadata": {
        "id": "SfR4MsSDU880"
      },
      "source": [
        "The loss function takes a vector of ground truth values and a vector of logits and returns a scalar loss for each example. This loss is equal to the negative log probability of the true class: The loss is zero if the model is sure of the correct class.\n",
        "\n",
        "This untrained model gives probabilities close to random (1/10 for each class), so the initial loss should be close to `-tf.math.log(1/10) ~= 2.3`."
      ]
    },
    {
      "cell_type": "code",
      "execution_count": null,
      "metadata": {
        "id": "NJWqEVrrJ7ZB"
      },
      "outputs": [],
      "source": [
        "loss_fn(y_train[:1], predictions).numpy()"
      ]
    },
    {
      "cell_type": "markdown",
      "metadata": {
        "id": "ada44eb947d4"
      },
      "source": [
        "Before you start training, configure and compile the model using Keras `Model.compile`. Set the [`optimizer`](https://www.tensorflow.org/api_docs/python/tf/keras/optimizers) class to `adam`, set the `loss` to the `loss_fn` function you defined earlier, and specify a metric to be evaluated for the model by setting the `metrics` parameter to `accuracy`."
      ]
    },
    {
      "cell_type": "code",
      "execution_count": null,
      "metadata": {
        "id": "9foNKHzTD2Vo"
      },
      "outputs": [],
      "source": [
        "model.compile(optimizer='adam',\n",
        "              loss=loss_fn,\n",
        "              metrics=['accuracy'])"
      ]
    },
    {
      "cell_type": "markdown",
      "metadata": {
        "id": "ix4mEL65on-w"
      },
      "source": [
        "## Train and evaluate your model\n",
        "\n",
        "Use the `Model.fit` method to adjust your model parameters and minimize the loss:"
      ]
    },
    {
      "cell_type": "code",
      "execution_count": null,
      "metadata": {
        "id": "y7suUbJXVLqP"
      },
      "outputs": [],
      "source": [
        "model.fit(x_train, y_train, epochs=5)"
      ]
    },
    {
      "cell_type": "markdown",
      "metadata": {
        "id": "4mDAAPFqVVgn"
      },
      "source": [
        "The `Model.evaluate` method checks the model's performance, usually on a [validation set](https://developers.google.com/machine-learning/glossary#validation-set) or [test set](https://developers.google.com/machine-learning/glossary#test-set)."
      ]
    },
    {
      "cell_type": "code",
      "execution_count": null,
      "metadata": {
        "id": "F7dTAzgHDUh7"
      },
      "outputs": [],
      "source": [
        "model.evaluate(x_test,  y_test, verbose=2)"
      ]
    },
    {
      "cell_type": "markdown",
      "metadata": {
        "id": "T4JfEh7kvx6m"
      },
      "source": [
        "The image classifier is now trained to ~98% accuracy on this dataset. To learn more, read the [TensorFlow tutorials](https://www.tensorflow.org/tutorials/)."
      ]
    },
    {
      "cell_type": "markdown",
      "metadata": {
        "id": "Aj8NrlzlJqDG"
      },
      "source": [
        "If you want your model to return a probability, you can wrap the trained model, and attach the softmax to it:"
      ]
    },
    {
      "cell_type": "code",
      "execution_count": null,
      "metadata": {
        "id": "rYb6DrEH0GMv"
      },
      "outputs": [],
      "source": [
        "probability_model = tf.keras.Sequential([\n",
        "  model,\n",
        "  tf.keras.layers.Softmax()\n",
        "])"
      ]
    },
    {
      "cell_type": "code",
      "execution_count": null,
      "metadata": {
        "id": "cnqOZtUp1YR_"
      },
      "outputs": [],
      "source": [
        "probability_model(x_test[:5])"
      ]
    },
    {
      "cell_type": "markdown",
      "metadata": {
        "id": "-47O6_GLdRuT"
      },
      "source": [
        "## Conclusion\n",
        "\n",
        "Congratulations! You have trained a machine learning model using a prebuilt dataset using the [Keras](https://www.tensorflow.org/guide/keras/overview) API.\n",
        "\n",
        "For more examples of using Keras, check out the [tutorials](https://www.tensorflow.org/tutorials/keras/). To learn more about building models with Keras, read the [guides](https://www.tensorflow.org/guide/keras). If you want learn more about loading and preparing data, see the tutorials on [image data loading](https://www.tensorflow.org/tutorials/load_data/images) or [CSV data loading](https://www.tensorflow.org/tutorials/load_data/csv).\n"
      ]
    }
  ],
  "metadata": {
    "colab": {
      "name": "beginner.ipynb",
      "provenance": []
    },
    "kernelspec": {
      "display_name": "Python 3",
      "name": "python3"
    }
  },
  "nbformat": 4,
  "nbformat_minor": 0
}